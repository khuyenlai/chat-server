{
  "cells": [
    {
      "cell_type": "markdown",
      "metadata": {
        "id": "view-in-github",
        "colab_type": "text"
      },
      "source": [
        "<a href=\"https://colab.research.google.com/github/khuyenlai/chat-server/blob/main/demo_notebook_new.ipynb\" target=\"_parent\"><img src=\"https://colab.research.google.com/assets/colab-badge.svg\" alt=\"Open In Colab\"/></a>"
      ]
    },
    {
      "cell_type": "markdown",
      "source": [
        "# **Please make a copy of this notebook before execution.**"
      ],
      "metadata": {
        "id": "v9zG36xC_kiY"
      }
    },
    {
      "cell_type": "code",
      "execution_count": null,
      "metadata": {
        "colab": {
          "base_uri": "https://localhost:8080/"
        },
        "id": "5OJ6tggbR2-v",
        "outputId": "33af7e38-a728-4919-d9c3-2079de766889"
      },
      "outputs": [
        {
          "output_type": "stream",
          "name": "stdout",
          "text": [
            "Collecting netCDF4\n",
            "  Downloading netCDF4-1.7.2-cp310-cp310-manylinux_2_17_x86_64.manylinux2014_x86_64.whl.metadata (1.8 kB)\n",
            "Requirement already satisfied: gdown in /usr/local/lib/python3.10/dist-packages (5.2.0)\n",
            "Collecting cftime (from netCDF4)\n",
            "  Downloading cftime-1.6.4.post1-cp310-cp310-manylinux_2_17_x86_64.manylinux2014_x86_64.whl.metadata (8.7 kB)\n",
            "Requirement already satisfied: certifi in /usr/local/lib/python3.10/dist-packages (from netCDF4) (2024.8.30)\n",
            "Requirement already satisfied: numpy in /usr/local/lib/python3.10/dist-packages (from netCDF4) (1.26.4)\n",
            "Requirement already satisfied: beautifulsoup4 in /usr/local/lib/python3.10/dist-packages (from gdown) (4.12.3)\n",
            "Requirement already satisfied: filelock in /usr/local/lib/python3.10/dist-packages (from gdown) (3.16.1)\n",
            "Requirement already satisfied: requests[socks] in /usr/local/lib/python3.10/dist-packages (from gdown) (2.32.3)\n",
            "Requirement already satisfied: tqdm in /usr/local/lib/python3.10/dist-packages (from gdown) (4.66.6)\n",
            "Requirement already satisfied: soupsieve>1.2 in /usr/local/lib/python3.10/dist-packages (from beautifulsoup4->gdown) (2.6)\n",
            "Requirement already satisfied: charset-normalizer<4,>=2 in /usr/local/lib/python3.10/dist-packages (from requests[socks]->gdown) (3.4.0)\n",
            "Requirement already satisfied: idna<4,>=2.5 in /usr/local/lib/python3.10/dist-packages (from requests[socks]->gdown) (3.10)\n",
            "Requirement already satisfied: urllib3<3,>=1.21.1 in /usr/local/lib/python3.10/dist-packages (from requests[socks]->gdown) (2.2.3)\n",
            "Requirement already satisfied: PySocks!=1.5.7,>=1.5.6 in /usr/local/lib/python3.10/dist-packages (from requests[socks]->gdown) (1.7.1)\n",
            "Downloading netCDF4-1.7.2-cp310-cp310-manylinux_2_17_x86_64.manylinux2014_x86_64.whl (9.1 MB)\n",
            "\u001b[2K   \u001b[90m━━━━━━━━━━━━━━━━━━━━━━━━━━━━━━━━━━━━━━━━\u001b[0m \u001b[32m9.1/9.1 MB\u001b[0m \u001b[31m20.7 MB/s\u001b[0m eta \u001b[36m0:00:00\u001b[0m\n",
            "\u001b[?25hDownloading cftime-1.6.4.post1-cp310-cp310-manylinux_2_17_x86_64.manylinux2014_x86_64.whl (1.3 MB)\n",
            "\u001b[2K   \u001b[90m━━━━━━━━━━━━━━━━━━━━━━━━━━━━━━━━━━━━━━━━\u001b[0m \u001b[32m1.3/1.3 MB\u001b[0m \u001b[31m29.1 MB/s\u001b[0m eta \u001b[36m0:00:00\u001b[0m\n",
            "\u001b[?25hInstalling collected packages: cftime, netCDF4\n",
            "Successfully installed cftime-1.6.4.post1 netCDF4-1.7.2\n",
            "Mounted at /content/drive\n"
          ]
        }
      ],
      "source": [
        "!pip install netCDF4 gdown\n",
        "import netCDF4\n",
        "import os\n",
        "import numpy as np\n",
        "from google.colab import drive\n",
        "drive.mount('/content/drive')\n",
        "import pandas as pd\n",
        "import matplotlib.pyplot as plt\n",
        "from google.colab import files\n",
        "import gdown"
      ]
    },
    {
      "cell_type": "markdown",
      "source": [
        "!pip install netCDF4 gdown\n",
        "import netCDF4\n",
        "import os\n",
        "import numpy as np\n",
        "from google.colab import drive\n",
        "drive.mount('/content/drive')\n",
        "import pandas as pd\n",
        "import matplotlib.pyplot as plt\n",
        "from google.colab import files\n",
        "import gdown"
      ],
      "metadata": {
        "id": "BWDdDl5-4qiS"
      }
    },
    {
      "cell_type": "code",
      "execution_count": null,
      "metadata": {
        "id": "WADHXJij5YUQ"
      },
      "outputs": [],
      "source": [
        "# Define the Google Drive file ID and the output file path\n",
        "file_id = \"1o9jrAMlFyHWIBwXSyuspN5ihBWi51uEx\"\n",
        "output_file_path = \"/content/19930101.nc\""
      ]
    },
    {
      "cell_type": "code",
      "source": [
        "# Download the file from Google Drive\n",
        "gdown.download(f\"https://drive.google.com/uc?id={file_id}\", output_file_path, quiet=False)"
      ],
      "metadata": {
        "colab": {
          "base_uri": "https://localhost:8080/",
          "height": 107
        },
        "id": "_EyjkyOz5Aip",
        "outputId": "a2bfeabd-3a9b-43de-e44c-f4d58a29dafd"
      },
      "execution_count": null,
      "outputs": [
        {
          "output_type": "stream",
          "name": "stderr",
          "text": [
            "Downloading...\n",
            "From: https://drive.google.com/uc?id=1o9jrAMlFyHWIBwXSyuspN5ihBWi51uEx\n",
            "To: /content/19930101.nc\n",
            "100%|██████████| 247k/247k [00:00<00:00, 57.3MB/s]\n"
          ]
        },
        {
          "output_type": "execute_result",
          "data": {
            "text/plain": [
              "'/content/19930101.nc'"
            ],
            "application/vnd.google.colaboratory.intrinsic+json": {
              "type": "string"
            }
          },
          "metadata": {},
          "execution_count": 3
        }
      ]
    },
    {
      "cell_type": "code",
      "execution_count": null,
      "metadata": {
        "id": "A_WUpMVi5YUQ"
      },
      "outputs": [],
      "source": [
        "# Open the .nc file\n",
        "dataset = netCDF4.Dataset(output_file_path, mode=\"r\")"
      ]
    },
    {
      "cell_type": "code",
      "execution_count": null,
      "metadata": {
        "colab": {
          "base_uri": "https://localhost:8080/"
        },
        "id": "M_fayuuq5YUR",
        "outputId": "9cbef365-db8f-4f75-c53b-3d3dd10d57c9"
      },
      "outputs": [
        {
          "output_type": "stream",
          "name": "stdout",
          "text": [
            "<class 'netCDF4.Dataset'>\n",
            "root group (NETCDF4 data model, file format HDF5):\n",
            "    Conventions: CF-1.6\n",
            "    Metadata_Conventions: Unidata Dataset Discovery v1.0\n",
            "    cdm_data_type: Grid\n",
            "    comment: Sea Surface Height measured by Altimetry and derived variables\n",
            "    contact: http://climate.copernicus.eu/c3s-user-service-desk\n",
            "    creator_email: http://climate.copernicus.eu/c3s-user-service-desk\n",
            "    creator_name: Copernicus Climate Change Service (C3S)\n",
            "    creator_url: http://climate.copernicus.eu\n",
            "    date_created: 2021-07-09T08:53:57Z\n",
            "    date_issued: 2021-07-09T08:53:57Z\n",
            "    date_modified: 2021-07-09T08:53:57Z\n",
            "    geospatial_lat_max: 89.875\n",
            "    geospatial_lat_min: -89.875\n",
            "    geospatial_lat_resolution: 0.25\n",
            "    geospatial_lat_units: degrees_north\n",
            "    geospatial_lon_max: 179.875\n",
            "    geospatial_lon_min: -179.875\n",
            "    geospatial_lon_resolution: 0.25\n",
            "    geospatial_lon_units: degrees_east\n",
            "    geospatial_vertical_max: 0.0\n",
            "    geospatial_vertical_min: 0.0\n",
            "    geospatial_vertical_positive: down\n",
            "    geospatial_vertical_resolution: point\n",
            "    geospatial_vertical_units: m\n",
            "    history: 2021-07-09 08:53:58Z: Creation\n",
            "    institution: CLS, CNES\n",
            "    keywords: Oceans > Ocean Topography > Sea Surface Height\n",
            "    keywords_vocabulary: NetCDF COARDS Climate and Forecast Standard Names\n",
            "    license: http://climate.copernicus.eu/c3s-user-service-desk\n",
            "    platform: ERS-1, Topex/Poseidon,\n",
            "    processing_level: L4\n",
            "    product_version: vDec2021\n",
            "    project: Copernicus Climate Change Service (C3S)\n",
            "    references: http://climate.copernicus.eu\n",
            "    software_version: 7.0_DUACS_DT2021_baseline\n",
            "    source: Altimetry measurements\n",
            "    ssalto_duacs_comment: The reference mission used for the altimeter inter-calibration processing is Topex/Poseidon between 1993-01-01 and 2002-04-23, Jason-1 between 2002-04-24 and 2008-10-18, OSTM/Jason-2 between 2008-10-19 and 2016-06-25, Jason-3 since 2016-06-25.\n",
            "    standard_name_vocabulary: NetCDF Climate and Forecast (CF) Metadata Convention Standard Name Table v37\n",
            "    summary: SSALTO/DUACS Delayed-Time Level-4 sea surface height and derived variables measured by multi-satellite altimetry observations over Global Ocean.\n",
            "    time_coverage_duration: P1D\n",
            "    time_coverage_end: 1993-01-01T12:00:00Z\n",
            "    time_coverage_resolution: P1D\n",
            "    time_coverage_start: 1992-12-31T12:00:00Z\n",
            "    title: DT merged two satellites Global Ocean Gridded SSALTO/DUACS Sea Surface Height L4 product and derived variables\n",
            "    dimensions(sizes): time(1), latitude(100), nv(2), longitude(160)\n",
            "    variables(dimensions): int32 crs(), float32 time(time), float32 latitude(latitude), float32 lat_bnds(latitude, nv), float32 longitude(longitude), float32 lon_bnds(longitude, nv), int32 nv(nv), int32 sla(time, latitude, longitude), int32 err_sla(time, latitude, longitude), int32 ugosa(time, latitude, longitude), int32 err_ugosa(time, latitude, longitude), int32 vgosa(time, latitude, longitude), int32 err_vgosa(time, latitude, longitude), int32 adt(time, latitude, longitude), int32 ugos(time, latitude, longitude), int32 vgos(time, latitude, longitude), int32 tpa_correction(time), int32 flag_ice(time, latitude, longitude)\n",
            "    groups: \n"
          ]
        }
      ],
      "source": [
        "print(dataset)"
      ]
    },
    {
      "cell_type": "code",
      "execution_count": null,
      "metadata": {
        "id": "d5aOkbKO5YUR",
        "colab": {
          "base_uri": "https://localhost:8080/",
          "height": 17
        },
        "outputId": "57c72aa0-345a-4b6d-bea4-b3542b6c1386"
      },
      "outputs": [
        {
          "output_type": "display_data",
          "data": {
            "text/plain": [
              "<IPython.core.display.Javascript object>"
            ],
            "application/javascript": [
              "\n",
              "    async function download(id, filename, size) {\n",
              "      if (!google.colab.kernel.accessAllowed) {\n",
              "        return;\n",
              "      }\n",
              "      const div = document.createElement('div');\n",
              "      const label = document.createElement('label');\n",
              "      label.textContent = `Downloading \"${filename}\": `;\n",
              "      div.appendChild(label);\n",
              "      const progress = document.createElement('progress');\n",
              "      progress.max = size;\n",
              "      div.appendChild(progress);\n",
              "      document.body.appendChild(div);\n",
              "\n",
              "      const buffers = [];\n",
              "      let downloaded = 0;\n",
              "\n",
              "      const channel = await google.colab.kernel.comms.open(id);\n",
              "      // Send a message to notify the kernel that we're ready.\n",
              "      channel.send({})\n",
              "\n",
              "      for await (const message of channel.messages) {\n",
              "        // Send a message to notify the kernel that we're ready.\n",
              "        channel.send({})\n",
              "        if (message.buffers) {\n",
              "          for (const buffer of message.buffers) {\n",
              "            buffers.push(buffer);\n",
              "            downloaded += buffer.byteLength;\n",
              "            progress.value = downloaded;\n",
              "          }\n",
              "        }\n",
              "      }\n",
              "      const blob = new Blob(buffers, {type: 'application/binary'});\n",
              "      const a = document.createElement('a');\n",
              "      a.href = window.URL.createObjectURL(blob);\n",
              "      a.download = filename;\n",
              "      div.appendChild(a);\n",
              "      a.click();\n",
              "      div.remove();\n",
              "    }\n",
              "  "
            ]
          },
          "metadata": {}
        },
        {
          "output_type": "display_data",
          "data": {
            "text/plain": [
              "<IPython.core.display.Javascript object>"
            ],
            "application/javascript": [
              "download(\"download_375f61f1-a2c4-49a5-8be3-2019b1ffe1eb\", \"19930101_info.txt\", 3141)"
            ]
          },
          "metadata": {}
        }
      ],
      "source": [
        "output_file_path = r\"./19930101_info.txt\"\n",
        "# Save detailed information about the contents of the file to a text file\n",
        "with open(output_file_path, \"w\") as f:\n",
        "    f.write(str(dataset))\n",
        "\n",
        "# Ensure the file is saved to the correct path in Google Colab\n",
        "files.download(output_file_path)"
      ]
    },
    {
      "cell_type": "code",
      "execution_count": null,
      "metadata": {
        "id": "DKy-7glx5YUS",
        "outputId": "0a2fb531-38d5-4ed1-ce66-3a5a41055296",
        "colab": {
          "base_uri": "https://localhost:8080/"
        }
      },
      "outputs": [
        {
          "output_type": "stream",
          "name": "stdout",
          "text": [
            "[[[-- -- -- ... -0.0594 -0.062400000000000004 -0.066]\n",
            "  [-- -- -- ... -0.051300000000000005 -0.0579 -0.0623]\n",
            "  [-- -- -- ... -0.0506 -0.057800000000000004 -0.0625]\n",
            "  ...\n",
            "  [-- -- -- ... -0.007200000000000001 -0.015000000000000001\n",
            "   -0.023100000000000002]\n",
            "  [-- -- -- ... -0.0048000000000000004 -0.010100000000000001 -0.0176]\n",
            "  [-- -- -- ... -0.0091 -0.009300000000000001 -0.0176]]]\n"
          ]
        }
      ],
      "source": [
        "# Extract the 'sla' (Sea level Anomaly) variable\n",
        "sla = dataset.variables[\"sla\"][:]\n",
        "print(sla)"
      ]
    },
    {
      "cell_type": "code",
      "execution_count": null,
      "metadata": {
        "id": "vSwZ1ezJ5YUS",
        "outputId": "72832b1a-4200-4e21-bf2d-998b9e565889",
        "colab": {
          "base_uri": "https://localhost:8080/"
        }
      },
      "outputs": [
        {
          "output_type": "stream",
          "name": "stdout",
          "text": [
            "Maximum SLA: 0.7465\n"
          ]
        }
      ],
      "source": [
        "# Calculate and print the max of all values stored in sla\n",
        "max_sla = np.max(sla)\n",
        "print(f\"Maximum SLA: {max_sla}\")"
      ]
    },
    {
      "cell_type": "code",
      "execution_count": null,
      "metadata": {
        "id": "-SEE_-xT5YUT",
        "outputId": "d743bb64-12b9-4f54-f18b-1d5364d0cd7c",
        "colab": {
          "base_uri": "https://localhost:8080/"
        }
      },
      "outputs": [
        {
          "output_type": "stream",
          "name": "stdout",
          "text": [
            "Minimum SLA: -0.6945\n"
          ]
        }
      ],
      "source": [
        "# Calculate and print the min of all values stored in sla\n",
        "min_sla = np.min(sla)\n",
        "print(f\"Minimum SLA: {min_sla}\")"
      ]
    },
    {
      "cell_type": "code",
      "execution_count": null,
      "metadata": {
        "id": "YFH9EDdL5YUU",
        "outputId": "795306cc-0c5b-45b9-c72e-7d25e0bba1ee",
        "colab": {
          "base_uri": "https://localhost:8080/"
        }
      },
      "outputs": [
        {
          "output_type": "stream",
          "name": "stdout",
          "text": [
            "Average SLA: -0.0027686967632027265\n"
          ]
        }
      ],
      "source": [
        "# Calculate and print the average of all values stored in sla\n",
        "average_sla = np.mean(sla)\n",
        "print(f\"Average SLA: {average_sla}\")"
      ]
    },
    {
      "cell_type": "code",
      "execution_count": null,
      "metadata": {
        "id": "jrwnts8F5YUU"
      },
      "outputs": [],
      "source": [
        "# Extract the latitude and longitude\n",
        "latitude = dataset.variables[\"latitude\"][:]\n",
        "longitude = dataset.variables[\"longitude\"][:]"
      ]
    },
    {
      "cell_type": "code",
      "execution_count": null,
      "metadata": {
        "id": "QL1Vicp_5YUV"
      },
      "outputs": [],
      "source": [
        "# Close the dataset\n",
        "dataset.close()"
      ]
    },
    {
      "cell_type": "code",
      "execution_count": null,
      "metadata": {
        "id": "UQXrWI7I5YUV",
        "outputId": "df21e8b7-1d67-48aa-add1-3c3ff03b7ab5",
        "colab": {
          "base_uri": "https://localhost:8080/",
          "height": 564
        }
      },
      "outputs": [
        {
          "output_type": "display_data",
          "data": {
            "text/plain": [
              "<Figure size 1000x600 with 2 Axes>"
            ],
            "image/png": "[encoded data removed]"
          },
          "metadata": {}
        }
      ],
      "source": [
        "# Create a meshgrid for plotting\n",
        "lon, lat = np.meshgrid(longitude, latitude)\n",
        "\n",
        "# Plot the 'sla' variable\n",
        "plt.figure(figsize=(10, 6))\n",
        "plt.contourf(lon, lat, sla[0, :, :], cmap=\"bwr\")\n",
        "plt.colorbar(label=\"Sea Level Anomaly (m)\")\n",
        "plt.xlabel(\"Longitude\")\n",
        "plt.ylabel(\"Latitude\")\n",
        "plt.title(\"Sea Level Anomaly on 1993-01-01\")\n",
        "plt.show()"
      ]
    },
    {
      "cell_type": "markdown",
      "metadata": {
        "id": "cSLM2J6Y2MQm"
      },
      "source": [
        "## Update paths below to run on Local"
      ]
    },
    {
      "cell_type": "code",
      "execution_count": null,
      "metadata": {
        "id": "uoaSlxOc5YUV"
      },
      "outputs": [],
      "source": [
        "# Define the directory containing the .nc files\n",
        "directory = r\"D:\\Data\\iharp_training_dataset\\Copernicus_ENA_training_data\""
      ]
    },
    {
      "cell_type": "code",
      "execution_count": null,
      "metadata": {
        "id": "6SlBmr5Z5YUW"
      },
      "outputs": [],
      "source": [
        "# Initialize a list to store the results\n",
        "results = []"
      ]
    },
    {
      "cell_type": "code",
      "execution_count": null,
      "metadata": {
        "id": "RG5If0HD5YUW"
      },
      "outputs": [],
      "source": [
        "# Iterate over all files in the directory\n",
        "for filename in os.listdir(directory):\n",
        "    if filename.endswith(\".nc\"):\n",
        "        file_path = os.path.join(directory, filename)\n",
        "\n",
        "        # Extract the date part from the filename and format it\n",
        "        date_str = filename.split(\".\")[0]\n",
        "        if len(date_str) == 8:\n",
        "            formatted_date = f\"{date_str[4:6]}-{date_str[6:8]}-{date_str[:4]}\"\n",
        "\n",
        "            # Open the .nc file\n",
        "            dataset = netCDF4.Dataset(file_path, mode=\"r\")\n",
        "\n",
        "            # Extract the 'sla' variable\n",
        "            sla = dataset.variables[\"sla\"][:]\n",
        "\n",
        "            # Calculate the average of all values stored in sla\n",
        "            average_sla = np.mean(sla)\n",
        "\n",
        "            # Determine the value for the additional columns\n",
        "            value = 1 if average_sla >= 0 else 0\n",
        "\n",
        "            # Append the result to the list\n",
        "            results.append([formatted_date, average_sla] + [value] * 12)\n",
        "\n",
        "            # Close the dataset\n",
        "            dataset.close()"
      ]
    },
    {
      "cell_type": "code",
      "execution_count": null,
      "metadata": {
        "id": "YneZHDEN5YUW"
      },
      "outputs": [],
      "source": [
        "# Create a DataFrame from the results\n",
        "columns = [\n",
        "    \"Date\",\n",
        "    \"Average_SLA\",\n",
        "    \"Atlantic City\",\n",
        "    \"Baltimore\",\n",
        "    \"Eastport\",\n",
        "    \"Fort Pulaski\",\n",
        "    \"Lewes\",\n",
        "    \"New London\",\n",
        "    \"Newport\",\n",
        "    \"Portland\",\n",
        "    \"Sandy Hook\",\n",
        "    \"Sewells Point\",\n",
        "    \"The Battery\",\n",
        "    \"Washington\",\n",
        "]\n",
        "results_df = pd.DataFrame(results, columns=columns)"
      ]
    },
    {
      "cell_type": "code",
      "execution_count": null,
      "metadata": {
        "id": "dIQYWx5G5YUX"
      },
      "outputs": [],
      "source": [
        "# Remove the Average_SLA column\n",
        "results_df = results_df.drop(columns=[\"Average_SLA\"])"
      ]
    },
    {
      "cell_type": "code",
      "execution_count": null,
      "metadata": {
        "id": "nmhqskY75YUX"
      },
      "outputs": [],
      "source": [
        "# Define the path to the output CSV file\n",
        "output_csv_path = r\"D:\\Git\\ML-challenge\\baseline\\demo_sla.csv\""
      ]
    },
    {
      "cell_type": "code",
      "execution_count": null,
      "metadata": {
        "id": "BvHU1_6A5YUX"
      },
      "outputs": [],
      "source": [
        "# Save the DataFrame to a CSV file\n",
        "results_df.to_csv(output_csv_path, index=False)"
      ]
    }
  ],
  "metadata": {
    "colab": {
      "provenance": [],
      "include_colab_link": true
    },
    "kernelspec": {
      "display_name": "lightning-env",
      "language": "python",
      "name": "python3"
    },
    "language_info": {
      "codemirror_mode": {
        "name": "ipython",
        "version": 3
      },
      "file_extension": ".py",
      "mimetype": "text/x-python",
      "name": "python",
      "nbconvert_exporter": "python",
      "pygments_lexer": "ipython3",
      "version": "3.12.3"
    }
  },
  "nbformat": 4,
  "nbformat_minor": 0
}